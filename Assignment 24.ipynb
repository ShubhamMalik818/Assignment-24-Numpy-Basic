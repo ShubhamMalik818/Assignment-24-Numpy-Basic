{
 "cells": [
  {
   "cell_type": "code",
   "execution_count": null,
   "id": "fa45e136-4ca8-4046-aa6a-17d403b06f71",
   "metadata": {},
   "outputs": [],
   "source": [
    "Consider the below code to answer further questions:\n",
    "import numpy as np\n",
    "list_ = [ ‘1’ , ’2’ , ‘3’ , ‘4’ , ‘5’ ]\n",
    "array_list = np.array(object = list_)\n",
    "\n",
    "1. Is there any difference in the data type of variables list_ and array_list? If there is then write a code to print \n",
    "the data types of both the variables."
   ]
  },
  {
   "cell_type": "code",
   "execution_count": null,
   "id": "0a25f564-37ff-4e32-9912-acb13b8acdbd",
   "metadata": {},
   "outputs": [],
   "source": [
    "ANS- Yes, there is a difference in the data type of list_ and array_list.\n",
    "\n",
    "list_ is a Python list containing string elements, while array_list is a NumPy array that contains elements of the data type numpy.str_, \n",
    "which is similar to the Python string data type but optimized for use in NumPy arrays.\n",
    "\n",
    "Here is the code to print the data types of both variables:"
   ]
  },
  {
   "cell_type": "code",
   "execution_count": 1,
   "id": "a49f35cf-64b1-4191-a590-a87603de78d6",
   "metadata": {},
   "outputs": [
    {
     "name": "stdout",
     "output_type": "stream",
     "text": [
      "Data type of list_: <class 'list'>\n",
      "Data type of array_list: <class 'numpy.ndarray'>\n"
     ]
    }
   ],
   "source": [
    "import numpy as np\n",
    "\n",
    "list_ = ['1', '2', '3', '4', '5']\n",
    "array_list = np.array(object=list_)\n",
    "\n",
    "print('Data type of list_:', type(list_))\n",
    "print('Data type of array_list:', type(array_list))"
   ]
  },
  {
   "cell_type": "code",
   "execution_count": null,
   "id": "767c1936-7eb2-40ba-a413-d8ad9d72bf0c",
   "metadata": {},
   "outputs": [],
   "source": [
    "2. Write a code to print the data type of each and every element of both the variables list_ and arra_list."
   ]
  },
  {
   "cell_type": "code",
   "execution_count": 2,
   "id": "eb40f6df-4d91-425b-abe8-db9146a6debe",
   "metadata": {},
   "outputs": [
    {
     "name": "stdout",
     "output_type": "stream",
     "text": [
      "Data type of element in list_: <class 'str'>\n",
      "Data type of element in list_: <class 'str'>\n",
      "Data type of element in list_: <class 'str'>\n",
      "Data type of element in list_: <class 'str'>\n",
      "Data type of element in list_: <class 'str'>\n",
      "Data type of element in array_list: <class 'numpy.str_'>\n",
      "Data type of element in array_list: <class 'numpy.str_'>\n",
      "Data type of element in array_list: <class 'numpy.str_'>\n",
      "Data type of element in array_list: <class 'numpy.str_'>\n",
      "Data type of element in array_list: <class 'numpy.str_'>\n"
     ]
    }
   ],
   "source": [
    "import numpy as np\n",
    "\n",
    "list_ = ['1', '2', '3', '4', '5']\n",
    "array_list = np.array(object=list_)\n",
    "\n",
    "# Print data type of each element in list_\n",
    "for i in list_:\n",
    "    print('Data type of element in list_:', type(i))\n",
    "\n",
    "# Print data type of each element in array_list\n",
    "for i in array_list:\n",
    "    print('Data type of element in array_list:', type(i))"
   ]
  },
  {
   "cell_type": "code",
   "execution_count": null,
   "id": "d9e459e3-5e9f-4d50-b78f-cf313cfc2195",
   "metadata": {},
   "outputs": [],
   "source": [
    "3. Considering the following changes in the variable, array_list:\n",
    "array_list = np.array(object = list_, dtype = int)\n",
    "Will there be any difference in the data type of the elements present in both the variables, list_ and arra_list? If so then print \n",
    "the data types of each and every element present in both the variables, list_ and arra_list.\n",
    "\n",
    "Consider the below code to answer further questions:\n",
    "\n",
    "import numpy as np\n",
    "num_list = [ [ 1 , 2 , 3 ] , [ 4 , 5 , 6 ] ]\n",
    "num_array = np.array(object = num_list)"
   ]
  },
  {
   "cell_type": "code",
   "execution_count": null,
   "id": "4e130a03-4916-4a05-84b0-4b9b1e904c64",
   "metadata": {},
   "outputs": [],
   "source": [
    "ANS- Yes, there will be a difference in the data type of the elements present in list_ and array_list when array_list is created as follows:\n",
    "    \n",
    "    array_list = np.array(object=list_, dtype=int)\n",
    "    \n",
    "    \n",
    "In this case, the dtype parameter is set to int, which means that the elements in list_ will be converted to integers \n",
    "when the array_list is created.\n",
    "\n",
    "Here is the code to print the data type of each element in both list_ and array_list:"
   ]
  },
  {
   "cell_type": "code",
   "execution_count": 3,
   "id": "22c7dcd7-af82-4df1-854c-b75bbdd8b91d",
   "metadata": {},
   "outputs": [
    {
     "name": "stdout",
     "output_type": "stream",
     "text": [
      "Data type of element in list_: <class 'str'>\n",
      "Data type of element in list_: <class 'str'>\n",
      "Data type of element in list_: <class 'str'>\n",
      "Data type of element in list_: <class 'str'>\n",
      "Data type of element in list_: <class 'str'>\n",
      "Data type of element in array_list: <class 'numpy.int64'>\n",
      "Data type of element in array_list: <class 'numpy.int64'>\n",
      "Data type of element in array_list: <class 'numpy.int64'>\n",
      "Data type of element in array_list: <class 'numpy.int64'>\n",
      "Data type of element in array_list: <class 'numpy.int64'>\n"
     ]
    }
   ],
   "source": [
    "import numpy as np\n",
    "\n",
    "list_ = ['1', '2', '3', '4', '5']\n",
    "array_list = np.array(object=list_, dtype=int)\n",
    "\n",
    "# Print data type of each element in list_\n",
    "for i in list_:\n",
    "    print('Data type of element in list_:', type(i))\n",
    "\n",
    "# Print data type of each element in array_list\n",
    "for i in array_list:\n",
    "    print('Data type of element in array_list:', type(i))\n"
   ]
  },
  {
   "cell_type": "code",
   "execution_count": null,
   "id": "b750f55b-6b5d-4c4e-921c-72bf32bad240",
   "metadata": {},
   "outputs": [],
   "source": [
    "As we can see, the data type of each element in list_ is str, while the data type of each element in array_list is numpy.int64.\n",
    "\n",
    "Regarding the code snippet you provided for num_list and num_array, it creates a 2-dimensional NumPy array num_array using the \n",
    "np.array function, which takes a nested list num_list as an argument. The resulting array num_array has dimensions 2x3, and contains \n",
    "the same values as num_list."
   ]
  },
  {
   "cell_type": "code",
   "execution_count": null,
   "id": "1be3dcfd-8f76-493a-9ed0-840930bf90b8",
   "metadata": {},
   "outputs": [],
   "source": [
    "4. Write a code to find the following characteristics of variable, num_array:\n",
    "(i) shape\n",
    "(ii) size"
   ]
  },
  {
   "cell_type": "code",
   "execution_count": 4,
   "id": "0344749c-5b0c-48d2-b3a6-1b5253fb5959",
   "metadata": {},
   "outputs": [
    {
     "name": "stdout",
     "output_type": "stream",
     "text": [
      "Shape of num_array: (2, 3)\n",
      "Size of num_array: 6\n"
     ]
    }
   ],
   "source": [
    "import numpy as np\n",
    "\n",
    "num_list = [[1, 2, 3], [4, 5, 6]]\n",
    "num_array = np.array(num_list)\n",
    "\n",
    "# Find shape of num_array\n",
    "print('Shape of num_array:', num_array.shape)\n",
    "\n",
    "# Find size of num_array\n",
    "print('Size of num_array:', num_array.size)\n",
    "\n",
    "\n",
    "'''As we can see, the shape of num_array is (2, 3), which means it has 2 rows and 3 columns, and the size of num_array is 6, \n",
    "which means it contains a total of 6 elements.'''"
   ]
  },
  {
   "cell_type": "code",
   "execution_count": null,
   "id": "53d908dc-c398-4842-98f3-6125cad9c26c",
   "metadata": {},
   "outputs": [],
   "source": [
    "5. Write a code to create numpy array of 3*3 matrix containing zeros only, using a numpy array creation function.\n",
    "[Hint: The size of the array will be 9 and the shape will be (3,3).]"
   ]
  },
  {
   "cell_type": "code",
   "execution_count": 5,
   "id": "0340afc9-6baf-4ac5-8651-9125806a6ee2",
   "metadata": {},
   "outputs": [
    {
     "name": "stdout",
     "output_type": "stream",
     "text": [
      "[[0. 0. 0.]\n",
      " [0. 0. 0.]\n",
      " [0. 0. 0.]]\n"
     ]
    }
   ],
   "source": [
    "import numpy as np\n",
    "\n",
    "# Create 3x3 NumPy array containing zeros\n",
    "zero_array = np.zeros((3, 3))\n",
    "\n",
    "# Print zero_array\n",
    "print(zero_array)\n",
    "\n",
    "'''As we can see, zero_array is a 3x3 NumPy array containing only zeros, created using the np.zeros() function. \n",
    "The function takes a tuple (3, 3) as an argument to specify the shape of the array.'''"
   ]
  },
  {
   "cell_type": "code",
   "execution_count": null,
   "id": "7b3d2523-55bb-4bef-9f47-a98f60fbdc7b",
   "metadata": {},
   "outputs": [],
   "source": [
    "6. Create an identity matrix of shape (5,5) using numpy functions?\n",
    "[Hint: An identity matrix is a matrix containing 1 diagonally and other elements will be 0.]"
   ]
  },
  {
   "cell_type": "code",
   "execution_count": 6,
   "id": "671f71b6-8c93-4c82-bd1d-0169cfdde2d5",
   "metadata": {},
   "outputs": [
    {
     "name": "stdout",
     "output_type": "stream",
     "text": [
      "[[1. 0. 0. 0. 0.]\n",
      " [0. 1. 0. 0. 0.]\n",
      " [0. 0. 1. 0. 0.]\n",
      " [0. 0. 0. 1. 0.]\n",
      " [0. 0. 0. 0. 1.]]\n"
     ]
    }
   ],
   "source": [
    "import numpy as np\n",
    "\n",
    "# Create 5x5 identity matrix\n",
    "identity_matrix = np.identity(5)\n",
    "\n",
    "# Print identity_matrix\n",
    "print(identity_matrix)\n",
    "\n",
    "'''As we can see, identity_matrix is a 5x5 matrix containing 1 diagonally and 0 elsewhere, created using the np.identity() function. \n",
    "The function takes an integer argument to specify the size of the square identity matrix.'''"
   ]
  }
 ],
 "metadata": {
  "kernelspec": {
   "display_name": "Python 3 (ipykernel)",
   "language": "python",
   "name": "python3"
  },
  "language_info": {
   "codemirror_mode": {
    "name": "ipython",
    "version": 3
   },
   "file_extension": ".py",
   "mimetype": "text/x-python",
   "name": "python",
   "nbconvert_exporter": "python",
   "pygments_lexer": "ipython3",
   "version": "3.10.8"
  }
 },
 "nbformat": 4,
 "nbformat_minor": 5
}
